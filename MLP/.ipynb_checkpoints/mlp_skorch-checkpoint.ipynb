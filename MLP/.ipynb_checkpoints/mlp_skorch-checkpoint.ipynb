{
 "cells": [
  {
   "cell_type": "code",
   "execution_count": 1,
   "id": "9e47b798-be11-47f4-8439-47303a1ba1ab",
   "metadata": {
    "tags": []
   },
   "outputs": [],
   "source": [
    "from types import SimpleNamespace\n",
    "from pathlib import Path\n",
    "\n",
    "import torch\n",
    "from torch import nn\n",
    "from dataset import get_mnist, separate\n",
    "from skorch import NeuralNetClassifier\n",
    "from sklearn.metrics import accuracy_score\n",
    "\n",
    "import os\n",
    "os.environ['KERAS_BACKEND'] = 'torch'\n",
    "import keras\n",
    "from keras import layers"
   ]
  },
  {
   "cell_type": "markdown",
   "id": "24eeac37-9f12-433c-aa3c-239cd8cf79a8",
   "metadata": {},
   "source": [
    "### Configuration"
   ]
  },
  {
   "cell_type": "code",
   "execution_count": 2,
   "id": "21d43d11-0101-4ccd-95e5-2eb584cfcb43",
   "metadata": {},
   "outputs": [
    {
     "name": "stdout",
     "output_type": "stream",
     "text": [
      "namespace(dataset='mnist', device='cuda', lr=0.001, batch=64, epoch=100)\n"
     ]
    }
   ],
   "source": [
    "args = SimpleNamespace(dataset=\"mnist\")\n",
    "args.device = \"cuda\" if torch.cuda.is_available() else \"cpu\"\n",
    "args.lr = 1e-3\n",
    "args.batch = 64\n",
    "args.epoch = 100\n",
    "print(args)"
   ]
  },
  {
   "cell_type": "code",
   "execution_count": 3,
   "id": "28a92646-73cd-4a09-945a-01482ea1b889",
   "metadata": {},
   "outputs": [
    {
     "data": {
      "text/plain": [
       "(937, 157)"
      ]
     },
     "execution_count": 3,
     "metadata": {},
     "output_type": "execute_result"
    }
   ],
   "source": [
    "loader = get_mnist(batch_size=args.batch)\n",
    "len(loader[0]), len(loader[1])"
   ]
  },
  {
   "cell_type": "code",
   "execution_count": 4,
   "id": "d290e84b-d895-4741-be69-e5df592c60a6",
   "metadata": {},
   "outputs": [
    {
     "data": {
      "text/plain": [
       "(torch.Size([59968, 1, 28, 28]), torch.Size([59968]))"
      ]
     },
     "execution_count": 4,
     "metadata": {},
     "output_type": "execute_result"
    }
   ],
   "source": [
    "x_train, y_train = separate(loader[0])\n",
    "x_train.shape, y_train.shape"
   ]
  },
  {
   "cell_type": "code",
   "execution_count": 5,
   "id": "c5925e0c-810b-4398-b38a-6b43c3bd6ae0",
   "metadata": {},
   "outputs": [
    {
     "data": {
      "text/plain": [
       "(torch.Size([10000, 1, 28, 28]), torch.Size([10000]))"
      ]
     },
     "execution_count": 5,
     "metadata": {},
     "output_type": "execute_result"
    }
   ],
   "source": [
    "x_test, y_test = separate(loader[1])\n",
    "x_test.shape, y_test.shape"
   ]
  },
  {
   "cell_type": "code",
   "execution_count": 6,
   "id": "50b2cc15-1a50-45b5-9070-da0a8fb9ffdf",
   "metadata": {},
   "outputs": [],
   "source": [
    "class Model(nn.Module):\n",
    "    \n",
    "    def __init__(self, num_classes=10):\n",
    "        super().__init__()\n",
    "        self.model = keras.Sequential([layers.Input((1, 28, 28)),\n",
    "                                       layers.Flatten(),\n",
    "                                       layers.Dense(200, activation=\"relu\"),\n",
    "                                       layers.Dense(150, activation=\"relu\"),\n",
    "                                       layers.Dense(num_classes, activation=\"softmax\")])\n",
    "        \n",
    "    def forward(self, x):\n",
    "        return self.model(x)"
   ]
  },
  {
   "cell_type": "code",
   "execution_count": 7,
   "id": "1b310131-650e-4f17-a317-370dca6775d3",
   "metadata": {},
   "outputs": [
    {
     "data": {
      "text/plain": [
       "torch.Size([32, 10])"
      ]
     },
     "execution_count": 7,
     "metadata": {},
     "output_type": "execute_result"
    }
   ],
   "source": [
    "model = Model()\n",
    "pred_y = model(x_train[0:32])\n",
    "pred_y.shape"
   ]
  },
  {
   "cell_type": "code",
   "execution_count": null,
   "id": "9c6bb0d2-c2ed-4b84-b981-b21b2b24c974",
   "metadata": {},
   "outputs": [
    {
     "name": "stdout",
     "output_type": "stream",
     "text": [
      "  epoch    train_loss    valid_acc    valid_loss     dur\n",
      "-------  ------------  -----------  ------------  ------\n",
      "      1        \u001b[36m2.1405\u001b[0m       \u001b[32m0.5295\u001b[0m        \u001b[35m1.9490\u001b[0m  3.7053\n",
      "      2        \u001b[36m1.7325\u001b[0m       \u001b[32m0.7064\u001b[0m        \u001b[35m1.5005\u001b[0m  3.8063\n",
      "      3        \u001b[36m1.2949\u001b[0m       \u001b[32m0.7762\u001b[0m        \u001b[35m1.1001\u001b[0m  3.5674\n",
      "      4        \u001b[36m0.9707\u001b[0m       \u001b[32m0.8192\u001b[0m        \u001b[35m0.8485\u001b[0m  3.6928\n",
      "      5        \u001b[36m0.7779\u001b[0m       \u001b[32m0.8412\u001b[0m        \u001b[35m0.7021\u001b[0m  3.7257\n",
      "      6        \u001b[36m0.6627\u001b[0m       \u001b[32m0.8550\u001b[0m        \u001b[35m0.6115\u001b[0m  3.8992\n"
     ]
    }
   ],
   "source": [
    "# default loss: NLLL\n",
    "net = NeuralNetClassifier(Model, max_epochs=args.epoch, lr=args.lr, \n",
    "                          batch_size=args.batch, device=args.device)\n",
    "net.fit(x_train, y_train)"
   ]
  },
  {
   "cell_type": "code",
   "execution_count": null,
   "id": "9c6bfb61-4440-4b29-acbf-a9c137f10a71",
   "metadata": {},
   "outputs": [],
   "source": [
    "y_pred = net.predict(x_test[:5])\n",
    "y_pred"
   ]
  },
  {
   "cell_type": "code",
   "execution_count": null,
   "id": "b84b4d17-81ef-460b-b190-490d5dff35c6",
   "metadata": {},
   "outputs": [],
   "source": [
    "y_proba = net.predict_proba(x_test[:5])\n",
    "y_proba"
   ]
  },
  {
   "cell_type": "code",
   "execution_count": null,
   "id": "53ca391b-fc04-4ed1-b50f-9b212f358833",
   "metadata": {},
   "outputs": [],
   "source": [
    "y_pred = net.predict(x_test)\n",
    "accuracy_score(y_test, y_pred)"
   ]
  },
  {
   "cell_type": "code",
   "execution_count": null,
   "id": "f9e242b1-f0af-4dbe-b90d-e21fc1444f2b",
   "metadata": {},
   "outputs": [],
   "source": [
    "class Model(nn.Module):\n",
    "    \n",
    "    def __init__(self, num_classes=10):\n",
    "        super().__init__()\n",
    "        self.model = keras.Sequential([layers.Input((1, 28, 28)),\n",
    "                                       layers.Flatten(),\n",
    "                                       layers.Dense(200, activation=\"relu\"),\n",
    "                                       layers.Dense(150, activation=\"relu\"),\n",
    "                                       layers.Dense(num_classes)])\n",
    "        \n",
    "    def forward(self, x):\n",
    "        return self.model(x)"
   ]
  },
  {
   "cell_type": "code",
   "execution_count": null,
   "id": "abf8b533-987c-45b3-8a94-dd9d8b004f3e",
   "metadata": {},
   "outputs": [],
   "source": [
    "net = NeuralNetClassifier(Model, max_epochs=args.epoch, lr=args.lr, \n",
    "                          criterion=nn.CrossEntropyLoss, \n",
    "                          batch_size=args.batch, device=args.device)\n",
    "net.fit(x_train, y_train)"
   ]
  },
  {
   "cell_type": "code",
   "execution_count": null,
   "id": "9ba8ade1-92ec-4ab7-9e4f-1d313138df81",
   "metadata": {},
   "outputs": [],
   "source": [
    "y_pred = net.predict(x_test[:5])\n",
    "y_pred"
   ]
  },
  {
   "cell_type": "code",
   "execution_count": null,
   "id": "0186da65-a1bb-4be5-80ab-b2a5362992a3",
   "metadata": {},
   "outputs": [],
   "source": [
    "y_proba = net.predict_proba(x_test[:5])\n",
    "y_proba"
   ]
  },
  {
   "cell_type": "code",
   "execution_count": null,
   "id": "bc2a0980-7459-405d-88a2-a161fbb0a719",
   "metadata": {},
   "outputs": [],
   "source": [
    "y_pred = net.predict(x_test)\n",
    "accuracy_score(y_test, y_pred)"
   ]
  }
 ],
 "metadata": {
  "kernelspec": {
   "display_name": "Python 3 (ipykernel)",
   "language": "python",
   "name": "python3"
  },
  "language_info": {
   "codemirror_mode": {
    "name": "ipython",
    "version": 3
   },
   "file_extension": ".py",
   "mimetype": "text/x-python",
   "name": "python",
   "nbconvert_exporter": "python",
   "pygments_lexer": "ipython3",
   "version": "3.12.4"
  }
 },
 "nbformat": 4,
 "nbformat_minor": 5
}
