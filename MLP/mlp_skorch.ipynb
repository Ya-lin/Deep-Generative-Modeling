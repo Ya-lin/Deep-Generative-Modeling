{
 "cells": [
  {
   "cell_type": "code",
   "execution_count": 1,
   "id": "9e47b798-be11-47f4-8439-47303a1ba1ab",
   "metadata": {
    "tags": []
   },
   "outputs": [],
   "source": [
    "from types import SimpleNamespace\n",
    "from pathlib import Path\n",
    "\n",
    "import torch\n",
    "from torch import nn\n",
    "from dataset import get_mnist, separate\n",
    "from skorch import NeuralNetClassifier\n",
    "from sklearn.metrics import accuracy_score\n",
    "\n",
    "import os\n",
    "os.environ['KERAS_BACKEND'] = 'torch'\n",
    "import keras\n",
    "from keras import layers"
   ]
  },
  {
   "cell_type": "markdown",
   "id": "24eeac37-9f12-433c-aa3c-239cd8cf79a8",
   "metadata": {},
   "source": [
    "### Configuration"
   ]
  },
  {
   "cell_type": "code",
   "execution_count": 2,
   "id": "21d43d11-0101-4ccd-95e5-2eb584cfcb43",
   "metadata": {},
   "outputs": [
    {
     "name": "stdout",
     "output_type": "stream",
     "text": [
      "namespace(dataset='mnist', device='cuda', lr=0.001, batch=64, epoch=100)\n"
     ]
    }
   ],
   "source": [
    "args = SimpleNamespace(dataset=\"mnist\")\n",
    "args.device = \"cuda\" if torch.cuda.is_available() else \"cpu\"\n",
    "args.lr = 1e-3\n",
    "args.batch = 64\n",
    "args.epoch = 100\n",
    "print(args)"
   ]
  },
  {
   "cell_type": "code",
   "execution_count": 3,
   "id": "28a92646-73cd-4a09-945a-01482ea1b889",
   "metadata": {},
   "outputs": [
    {
     "data": {
      "text/plain": [
       "(937, 157)"
      ]
     },
     "execution_count": 3,
     "metadata": {},
     "output_type": "execute_result"
    }
   ],
   "source": [
    "loader = get_mnist(batch_size=args.batch)\n",
    "len(loader[0]), len(loader[1])"
   ]
  },
  {
   "cell_type": "code",
   "execution_count": 4,
   "id": "d290e84b-d895-4741-be69-e5df592c60a6",
   "metadata": {},
   "outputs": [
    {
     "data": {
      "text/plain": [
       "(torch.Size([59968, 1, 28, 28]), torch.Size([59968]))"
      ]
     },
     "execution_count": 4,
     "metadata": {},
     "output_type": "execute_result"
    }
   ],
   "source": [
    "x_train, y_train = separate(loader[0])\n",
    "x_train.shape, y_train.shape"
   ]
  },
  {
   "cell_type": "code",
   "execution_count": 5,
   "id": "c5925e0c-810b-4398-b38a-6b43c3bd6ae0",
   "metadata": {},
   "outputs": [
    {
     "data": {
      "text/plain": [
       "(torch.Size([10000, 1, 28, 28]), torch.Size([10000]))"
      ]
     },
     "execution_count": 5,
     "metadata": {},
     "output_type": "execute_result"
    }
   ],
   "source": [
    "x_test, y_test = separate(loader[1])\n",
    "x_test.shape, y_test.shape"
   ]
  },
  {
   "cell_type": "code",
   "execution_count": 6,
   "id": "50b2cc15-1a50-45b5-9070-da0a8fb9ffdf",
   "metadata": {},
   "outputs": [],
   "source": [
    "class Model(nn.Module):\n",
    "    \n",
    "    def __init__(self, num_classes=10):\n",
    "        super().__init__()\n",
    "        self.model = keras.Sequential([layers.Input((1, 28, 28)),\n",
    "                                       layers.Flatten(),\n",
    "                                       layers.Dense(200, activation=\"relu\"),\n",
    "                                       layers.Dense(150, activation=\"relu\"),\n",
    "                                       layers.Dense(num_classes, activation=\"softmax\")])\n",
    "        \n",
    "    def forward(self, x):\n",
    "        return self.model(x)"
   ]
  },
  {
   "cell_type": "code",
   "execution_count": 7,
   "id": "1b310131-650e-4f17-a317-370dca6775d3",
   "metadata": {},
   "outputs": [
    {
     "data": {
      "text/plain": [
       "torch.Size([32, 10])"
      ]
     },
     "execution_count": 7,
     "metadata": {},
     "output_type": "execute_result"
    }
   ],
   "source": [
    "model = Model()\n",
    "pred_y = model(x_train[0:32])\n",
    "pred_y.shape"
   ]
  },
  {
   "cell_type": "code",
   "execution_count": 8,
   "id": "9c6bb0d2-c2ed-4b84-b981-b21b2b24c974",
   "metadata": {},
   "outputs": [
    {
     "name": "stdout",
     "output_type": "stream",
     "text": [
      "  epoch    train_loss    valid_acc    valid_loss     dur\n",
      "-------  ------------  -----------  ------------  ------\n",
      "      1        \u001b[36m2.1405\u001b[0m       \u001b[32m0.5295\u001b[0m        \u001b[35m1.9490\u001b[0m  3.7053\n",
      "      2        \u001b[36m1.7325\u001b[0m       \u001b[32m0.7064\u001b[0m        \u001b[35m1.5005\u001b[0m  3.8063\n",
      "      3        \u001b[36m1.2949\u001b[0m       \u001b[32m0.7762\u001b[0m        \u001b[35m1.1001\u001b[0m  3.5674\n",
      "      4        \u001b[36m0.9707\u001b[0m       \u001b[32m0.8192\u001b[0m        \u001b[35m0.8485\u001b[0m  3.6928\n",
      "      5        \u001b[36m0.7779\u001b[0m       \u001b[32m0.8412\u001b[0m        \u001b[35m0.7021\u001b[0m  3.7257\n",
      "      6        \u001b[36m0.6627\u001b[0m       \u001b[32m0.8550\u001b[0m        \u001b[35m0.6115\u001b[0m  3.8992\n",
      "      7        \u001b[36m0.5885\u001b[0m       \u001b[32m0.8639\u001b[0m        \u001b[35m0.5510\u001b[0m  3.8088\n",
      "      8        \u001b[36m0.5372\u001b[0m       \u001b[32m0.8709\u001b[0m        \u001b[35m0.5078\u001b[0m  3.7070\n",
      "      9        \u001b[36m0.4994\u001b[0m       \u001b[32m0.8768\u001b[0m        \u001b[35m0.4755\u001b[0m  3.6823\n",
      "     10        \u001b[36m0.4705\u001b[0m       \u001b[32m0.8819\u001b[0m        \u001b[35m0.4504\u001b[0m  3.5816\n",
      "     11        \u001b[36m0.4475\u001b[0m       \u001b[32m0.8853\u001b[0m        \u001b[35m0.4302\u001b[0m  3.9496\n",
      "     12        \u001b[36m0.4287\u001b[0m       \u001b[32m0.8888\u001b[0m        \u001b[35m0.4137\u001b[0m  3.6535\n",
      "     13        \u001b[36m0.4130\u001b[0m       \u001b[32m0.8916\u001b[0m        \u001b[35m0.3998\u001b[0m  3.4654\n",
      "     14        \u001b[36m0.3997\u001b[0m       \u001b[32m0.8949\u001b[0m        \u001b[35m0.3879\u001b[0m  3.6935\n",
      "     15        \u001b[36m0.3882\u001b[0m       \u001b[32m0.8959\u001b[0m        \u001b[35m0.3776\u001b[0m  3.9184\n",
      "     16        \u001b[36m0.3781\u001b[0m       \u001b[32m0.8967\u001b[0m        \u001b[35m0.3686\u001b[0m  3.6339\n",
      "     17        \u001b[36m0.3691\u001b[0m       \u001b[32m0.8982\u001b[0m        \u001b[35m0.3605\u001b[0m  4.1467\n",
      "     18        \u001b[36m0.3611\u001b[0m       \u001b[32m0.8999\u001b[0m        \u001b[35m0.3533\u001b[0m  4.0741\n",
      "     19        \u001b[36m0.3538\u001b[0m       \u001b[32m0.9019\u001b[0m        \u001b[35m0.3468\u001b[0m  3.8021\n",
      "     20        \u001b[36m0.3471\u001b[0m       \u001b[32m0.9037\u001b[0m        \u001b[35m0.3408\u001b[0m  4.1069\n",
      "     21        \u001b[36m0.3410\u001b[0m       \u001b[32m0.9055\u001b[0m        \u001b[35m0.3353\u001b[0m  3.8555\n",
      "     22        \u001b[36m0.3354\u001b[0m       \u001b[32m0.9073\u001b[0m        \u001b[35m0.3302\u001b[0m  3.5821\n",
      "     23        \u001b[36m0.3301\u001b[0m       \u001b[32m0.9086\u001b[0m        \u001b[35m0.3255\u001b[0m  3.6765\n",
      "     24        \u001b[36m0.3252\u001b[0m       \u001b[32m0.9097\u001b[0m        \u001b[35m0.3211\u001b[0m  3.6017\n",
      "     25        \u001b[36m0.3206\u001b[0m       \u001b[32m0.9111\u001b[0m        \u001b[35m0.3170\u001b[0m  3.8714\n",
      "     26        \u001b[36m0.3163\u001b[0m       \u001b[32m0.9124\u001b[0m        \u001b[35m0.3131\u001b[0m  3.5811\n",
      "     27        \u001b[36m0.3122\u001b[0m       \u001b[32m0.9134\u001b[0m        \u001b[35m0.3094\u001b[0m  3.7912\n",
      "     28        \u001b[36m0.3083\u001b[0m       \u001b[32m0.9140\u001b[0m        \u001b[35m0.3059\u001b[0m  3.4581\n",
      "     29        \u001b[36m0.3046\u001b[0m       \u001b[32m0.9147\u001b[0m        \u001b[35m0.3026\u001b[0m  3.5954\n",
      "     30        \u001b[36m0.3010\u001b[0m       \u001b[32m0.9155\u001b[0m        \u001b[35m0.2994\u001b[0m  3.6039\n",
      "     31        \u001b[36m0.2977\u001b[0m       \u001b[32m0.9164\u001b[0m        \u001b[35m0.2964\u001b[0m  3.8202\n",
      "     32        \u001b[36m0.2944\u001b[0m       \u001b[32m0.9168\u001b[0m        \u001b[35m0.2935\u001b[0m  3.8753\n",
      "     33        \u001b[36m0.2913\u001b[0m       \u001b[32m0.9179\u001b[0m        \u001b[35m0.2908\u001b[0m  3.5978\n",
      "     34        \u001b[36m0.2883\u001b[0m       \u001b[32m0.9187\u001b[0m        \u001b[35m0.2881\u001b[0m  3.9309\n",
      "     35        \u001b[36m0.2854\u001b[0m       \u001b[32m0.9193\u001b[0m        \u001b[35m0.2855\u001b[0m  3.5450\n",
      "     36        \u001b[36m0.2826\u001b[0m       \u001b[32m0.9202\u001b[0m        \u001b[35m0.2830\u001b[0m  3.4206\n",
      "     37        \u001b[36m0.2799\u001b[0m       \u001b[32m0.9207\u001b[0m        \u001b[35m0.2806\u001b[0m  3.5105\n",
      "     38        \u001b[36m0.2772\u001b[0m       \u001b[32m0.9215\u001b[0m        \u001b[35m0.2783\u001b[0m  3.8730\n",
      "     39        \u001b[36m0.2747\u001b[0m       \u001b[32m0.9218\u001b[0m        \u001b[35m0.2760\u001b[0m  3.9724\n",
      "     40        \u001b[36m0.2722\u001b[0m       \u001b[32m0.9225\u001b[0m        \u001b[35m0.2738\u001b[0m  3.5844\n",
      "     41        \u001b[36m0.2698\u001b[0m       \u001b[32m0.9227\u001b[0m        \u001b[35m0.2717\u001b[0m  3.5278\n",
      "     42        \u001b[36m0.2674\u001b[0m       \u001b[32m0.9235\u001b[0m        \u001b[35m0.2696\u001b[0m  3.6855\n",
      "     43        \u001b[36m0.2651\u001b[0m       \u001b[32m0.9238\u001b[0m        \u001b[35m0.2675\u001b[0m  3.6406\n",
      "     44        \u001b[36m0.2629\u001b[0m       \u001b[32m0.9244\u001b[0m        \u001b[35m0.2656\u001b[0m  3.6995\n",
      "     45        \u001b[36m0.2607\u001b[0m       \u001b[32m0.9250\u001b[0m        \u001b[35m0.2636\u001b[0m  3.5886\n",
      "     46        \u001b[36m0.2585\u001b[0m       \u001b[32m0.9260\u001b[0m        \u001b[35m0.2617\u001b[0m  3.4391\n",
      "     47        \u001b[36m0.2564\u001b[0m       \u001b[32m0.9267\u001b[0m        \u001b[35m0.2599\u001b[0m  3.6628\n",
      "     48        \u001b[36m0.2544\u001b[0m       \u001b[32m0.9270\u001b[0m        \u001b[35m0.2580\u001b[0m  3.7674\n",
      "     49        \u001b[36m0.2524\u001b[0m       \u001b[32m0.9276\u001b[0m        \u001b[35m0.2562\u001b[0m  3.6268\n",
      "     50        \u001b[36m0.2504\u001b[0m       \u001b[32m0.9280\u001b[0m        \u001b[35m0.2545\u001b[0m  3.5570\n",
      "     51        \u001b[36m0.2485\u001b[0m       \u001b[32m0.9285\u001b[0m        \u001b[35m0.2528\u001b[0m  3.5475\n",
      "     52        \u001b[36m0.2466\u001b[0m       \u001b[32m0.9285\u001b[0m        \u001b[35m0.2511\u001b[0m  3.5706\n",
      "     53        \u001b[36m0.2447\u001b[0m       \u001b[32m0.9290\u001b[0m        \u001b[35m0.2494\u001b[0m  3.4218\n",
      "     54        \u001b[36m0.2429\u001b[0m       \u001b[32m0.9292\u001b[0m        \u001b[35m0.2478\u001b[0m  3.6728\n",
      "     55        \u001b[36m0.2411\u001b[0m       \u001b[32m0.9298\u001b[0m        \u001b[35m0.2462\u001b[0m  3.5918\n",
      "     56        \u001b[36m0.2393\u001b[0m       \u001b[32m0.9305\u001b[0m        \u001b[35m0.2446\u001b[0m  3.6010\n",
      "     57        \u001b[36m0.2376\u001b[0m       \u001b[32m0.9309\u001b[0m        \u001b[35m0.2431\u001b[0m  3.4478\n",
      "     58        \u001b[36m0.2359\u001b[0m       \u001b[32m0.9314\u001b[0m        \u001b[35m0.2416\u001b[0m  3.4645\n",
      "     59        \u001b[36m0.2342\u001b[0m       \u001b[32m0.9320\u001b[0m        \u001b[35m0.2401\u001b[0m  3.4933\n",
      "     60        \u001b[36m0.2326\u001b[0m       \u001b[32m0.9325\u001b[0m        \u001b[35m0.2386\u001b[0m  3.6016\n",
      "     61        \u001b[36m0.2309\u001b[0m       \u001b[32m0.9330\u001b[0m        \u001b[35m0.2371\u001b[0m  3.7125\n",
      "     62        \u001b[36m0.2293\u001b[0m       \u001b[32m0.9335\u001b[0m        \u001b[35m0.2357\u001b[0m  3.5391\n",
      "     63        \u001b[36m0.2277\u001b[0m       \u001b[32m0.9341\u001b[0m        \u001b[35m0.2343\u001b[0m  3.3845\n",
      "     64        \u001b[36m0.2262\u001b[0m       \u001b[32m0.9344\u001b[0m        \u001b[35m0.2329\u001b[0m  3.7182\n",
      "     65        \u001b[36m0.2247\u001b[0m       \u001b[32m0.9346\u001b[0m        \u001b[35m0.2315\u001b[0m  3.6172\n",
      "     66        \u001b[36m0.2231\u001b[0m       \u001b[32m0.9350\u001b[0m        \u001b[35m0.2302\u001b[0m  3.4573\n",
      "     67        \u001b[36m0.2216\u001b[0m       \u001b[32m0.9352\u001b[0m        \u001b[35m0.2288\u001b[0m  3.6363\n",
      "     68        \u001b[36m0.2202\u001b[0m       \u001b[32m0.9353\u001b[0m        \u001b[35m0.2275\u001b[0m  3.6142\n",
      "     69        \u001b[36m0.2187\u001b[0m       \u001b[32m0.9359\u001b[0m        \u001b[35m0.2262\u001b[0m  3.6754\n",
      "     70        \u001b[36m0.2173\u001b[0m       \u001b[32m0.9362\u001b[0m        \u001b[35m0.2249\u001b[0m  3.6138\n",
      "     71        \u001b[36m0.2159\u001b[0m       \u001b[32m0.9366\u001b[0m        \u001b[35m0.2236\u001b[0m  3.5837\n",
      "     72        \u001b[36m0.2145\u001b[0m       \u001b[32m0.9370\u001b[0m        \u001b[35m0.2224\u001b[0m  3.6751\n",
      "     73        \u001b[36m0.2131\u001b[0m       \u001b[32m0.9373\u001b[0m        \u001b[35m0.2212\u001b[0m  3.7676\n",
      "     74        \u001b[36m0.2117\u001b[0m       \u001b[32m0.9376\u001b[0m        \u001b[35m0.2199\u001b[0m  3.5923\n",
      "     75        \u001b[36m0.2104\u001b[0m       \u001b[32m0.9377\u001b[0m        \u001b[35m0.2187\u001b[0m  3.5024\n",
      "     76        \u001b[36m0.2090\u001b[0m       \u001b[32m0.9381\u001b[0m        \u001b[35m0.2175\u001b[0m  3.5349\n",
      "     77        \u001b[36m0.2077\u001b[0m       \u001b[32m0.9388\u001b[0m        \u001b[35m0.2164\u001b[0m  3.5095\n",
      "     78        \u001b[36m0.2064\u001b[0m       \u001b[32m0.9394\u001b[0m        \u001b[35m0.2152\u001b[0m  3.6687\n",
      "     79        \u001b[36m0.2051\u001b[0m       \u001b[32m0.9399\u001b[0m        \u001b[35m0.2141\u001b[0m  3.7673\n",
      "     80        \u001b[36m0.2039\u001b[0m       \u001b[32m0.9401\u001b[0m        \u001b[35m0.2129\u001b[0m  3.6309\n",
      "     81        \u001b[36m0.2026\u001b[0m       \u001b[32m0.9406\u001b[0m        \u001b[35m0.2118\u001b[0m  3.5819\n",
      "     82        \u001b[36m0.2014\u001b[0m       \u001b[32m0.9410\u001b[0m        \u001b[35m0.2107\u001b[0m  3.6283\n",
      "     83        \u001b[36m0.2002\u001b[0m       \u001b[32m0.9411\u001b[0m        \u001b[35m0.2097\u001b[0m  3.8709\n",
      "     84        \u001b[36m0.1989\u001b[0m       \u001b[32m0.9414\u001b[0m        \u001b[35m0.2086\u001b[0m  3.7945\n",
      "     85        \u001b[36m0.1977\u001b[0m       \u001b[32m0.9416\u001b[0m        \u001b[35m0.2075\u001b[0m  3.8073\n",
      "     86        \u001b[36m0.1966\u001b[0m       \u001b[32m0.9421\u001b[0m        \u001b[35m0.2065\u001b[0m  3.7155\n",
      "     87        \u001b[36m0.1954\u001b[0m       \u001b[32m0.9425\u001b[0m        \u001b[35m0.2054\u001b[0m  3.8843\n",
      "     88        \u001b[36m0.1942\u001b[0m       \u001b[32m0.9426\u001b[0m        \u001b[35m0.2044\u001b[0m  3.5614\n",
      "     89        \u001b[36m0.1931\u001b[0m       0.9426        \u001b[35m0.2034\u001b[0m  3.8998\n",
      "     90        \u001b[36m0.1919\u001b[0m       \u001b[32m0.9426\u001b[0m        \u001b[35m0.2024\u001b[0m  3.5803\n",
      "     91        \u001b[36m0.1908\u001b[0m       \u001b[32m0.9431\u001b[0m        \u001b[35m0.2014\u001b[0m  3.5434\n",
      "     92        \u001b[36m0.1897\u001b[0m       \u001b[32m0.9434\u001b[0m        \u001b[35m0.2004\u001b[0m  3.7980\n",
      "     93        \u001b[36m0.1886\u001b[0m       \u001b[32m0.9435\u001b[0m        \u001b[35m0.1995\u001b[0m  3.5405\n",
      "     94        \u001b[36m0.1875\u001b[0m       \u001b[32m0.9436\u001b[0m        \u001b[35m0.1985\u001b[0m  3.6020\n",
      "     95        \u001b[36m0.1865\u001b[0m       \u001b[32m0.9440\u001b[0m        \u001b[35m0.1976\u001b[0m  3.6599\n",
      "     96        \u001b[36m0.1854\u001b[0m       \u001b[32m0.9445\u001b[0m        \u001b[35m0.1966\u001b[0m  3.6284\n",
      "     97        \u001b[36m0.1843\u001b[0m       \u001b[32m0.9448\u001b[0m        \u001b[35m0.1957\u001b[0m  3.7163\n",
      "     98        \u001b[36m0.1833\u001b[0m       0.9448        \u001b[35m0.1948\u001b[0m  3.4646\n",
      "     99        \u001b[36m0.1823\u001b[0m       0.9448        \u001b[35m0.1939\u001b[0m  3.4920\n",
      "    100        \u001b[36m0.1812\u001b[0m       \u001b[32m0.9450\u001b[0m        \u001b[35m0.1930\u001b[0m  3.5361\n"
     ]
    },
    {
     "data": {
      "text/plain": [
       "<class 'skorch.classifier.NeuralNetClassifier'>[initialized](\n",
       "  module_=Model(\n",
       "    (model): <Sequential name=sequential_1, built=True>\n",
       "  ),\n",
       ")"
      ]
     },
     "execution_count": 8,
     "metadata": {},
     "output_type": "execute_result"
    }
   ],
   "source": [
    "# default loss: NLLL\n",
    "net = NeuralNetClassifier(Model, max_epochs=args.epoch, lr=args.lr, \n",
    "                          batch_size=args.batch, device=args.device)\n",
    "net.fit(x_train, y_train)"
   ]
  },
  {
   "cell_type": "code",
   "execution_count": 9,
   "id": "9c6bfb61-4440-4b29-acbf-a9c137f10a71",
   "metadata": {},
   "outputs": [
    {
     "data": {
      "text/plain": [
       "array([7, 2, 1, 0, 4], dtype=int64)"
      ]
     },
     "execution_count": 9,
     "metadata": {},
     "output_type": "execute_result"
    }
   ],
   "source": [
    "y_pred = net.predict(x_test[:5])\n",
    "y_pred"
   ]
  },
  {
   "cell_type": "code",
   "execution_count": 10,
   "id": "b84b4d17-81ef-460b-b190-490d5dff35c6",
   "metadata": {},
   "outputs": [
    {
     "data": {
      "text/plain": [
       "array([[4.6451274e-05, 5.3063718e-06, 4.1977540e-04, 2.8449306e-03,\n",
       "        1.7729832e-06, 3.5731573e-05, 9.5632489e-09, 9.9603051e-01,\n",
       "        2.0018611e-05, 5.9551321e-04],\n",
       "       [3.1593044e-03, 1.4765879e-04, 9.8155826e-01, 6.5317373e-03,\n",
       "        1.1567742e-08, 1.4843104e-03, 5.3820792e-03, 1.3069323e-08,\n",
       "        1.7366771e-03, 5.2421928e-08],\n",
       "       [1.9699519e-05, 9.8108172e-01, 7.4166330e-03, 2.3047475e-03,\n",
       "        2.4427121e-04, 1.1911511e-03, 8.1940944e-04, 3.7905967e-03,\n",
       "        2.6040056e-03, 5.2784377e-04],\n",
       "       [9.9917585e-01, 1.8151191e-07, 1.4632031e-04, 1.3783371e-05,\n",
       "        9.6082687e-08, 2.4336361e-04, 2.7840881e-04, 3.0799725e-05,\n",
       "        4.2784905e-06, 1.0681527e-04],\n",
       "       [6.3727214e-04, 1.2009788e-05, 2.0672868e-03, 7.4143056e-05,\n",
       "        9.5954847e-01, 3.2029176e-04, 1.7458161e-03, 2.1546860e-03,\n",
       "        2.3238973e-03, 3.1116124e-02]], dtype=float32)"
      ]
     },
     "execution_count": 10,
     "metadata": {},
     "output_type": "execute_result"
    }
   ],
   "source": [
    "y_proba = net.predict_proba(x_test[:5])\n",
    "y_proba"
   ]
  },
  {
   "cell_type": "code",
   "execution_count": 11,
   "id": "53ca391b-fc04-4ed1-b50f-9b212f358833",
   "metadata": {},
   "outputs": [
    {
     "data": {
      "text/plain": [
       "0.9464"
      ]
     },
     "execution_count": 11,
     "metadata": {},
     "output_type": "execute_result"
    }
   ],
   "source": [
    "y_pred = net.predict(x_test)\n",
    "accuracy_score(y_test, y_pred)"
   ]
  },
  {
   "cell_type": "code",
   "execution_count": 12,
   "id": "f9e242b1-f0af-4dbe-b90d-e21fc1444f2b",
   "metadata": {},
   "outputs": [],
   "source": [
    "class Model(nn.Module):\n",
    "    \n",
    "    def __init__(self, num_classes=10):\n",
    "        super().__init__()\n",
    "        self.model = keras.Sequential([layers.Input((1, 28, 28)),\n",
    "                                       layers.Flatten(),\n",
    "                                       layers.Dense(200, activation=\"relu\"),\n",
    "                                       layers.Dense(150, activation=\"relu\"),\n",
    "                                       layers.Dense(num_classes)])\n",
    "        \n",
    "    def forward(self, x):\n",
    "        return self.model(x)"
   ]
  },
  {
   "cell_type": "code",
   "execution_count": 13,
   "id": "abf8b533-987c-45b3-8a94-dd9d8b004f3e",
   "metadata": {},
   "outputs": [
    {
     "name": "stdout",
     "output_type": "stream",
     "text": [
      "  epoch    train_loss    valid_acc    valid_loss     dur\n",
      "-------  ------------  -----------  ------------  ------\n",
      "      1        \u001b[36m2.1292\u001b[0m       \u001b[32m0.5456\u001b[0m        \u001b[35m1.9259\u001b[0m  3.5303\n",
      "      2        \u001b[36m1.6923\u001b[0m       \u001b[32m0.7203\u001b[0m        \u001b[35m1.4522\u001b[0m  3.5847\n",
      "      3        \u001b[36m1.2473\u001b[0m       \u001b[32m0.7883\u001b[0m        \u001b[35m1.0597\u001b[0m  3.5464\n",
      "      4        \u001b[36m0.9367\u001b[0m       \u001b[32m0.8266\u001b[0m        \u001b[35m0.8217\u001b[0m  3.6157\n",
      "      5        \u001b[36m0.7552\u001b[0m       \u001b[32m0.8457\u001b[0m        \u001b[35m0.6837\u001b[0m  3.7120\n",
      "      6        \u001b[36m0.6468\u001b[0m       \u001b[32m0.8581\u001b[0m        \u001b[35m0.5980\u001b[0m  3.8556\n",
      "      7        \u001b[36m0.5766\u001b[0m       \u001b[32m0.8676\u001b[0m        \u001b[35m0.5403\u001b[0m  3.3678\n",
      "      8        \u001b[36m0.5276\u001b[0m       \u001b[32m0.8749\u001b[0m        \u001b[35m0.4989\u001b[0m  3.3392\n",
      "      9        \u001b[36m0.4915\u001b[0m       \u001b[32m0.8803\u001b[0m        \u001b[35m0.4677\u001b[0m  3.4421\n",
      "     10        \u001b[36m0.4636\u001b[0m       \u001b[32m0.8839\u001b[0m        \u001b[35m0.4433\u001b[0m  3.6726\n",
      "     11        \u001b[36m0.4415\u001b[0m       \u001b[32m0.8868\u001b[0m        \u001b[35m0.4237\u001b[0m  3.5697\n",
      "     12        \u001b[36m0.4233\u001b[0m       \u001b[32m0.8898\u001b[0m        \u001b[35m0.4075\u001b[0m  3.5257\n",
      "     13        \u001b[36m0.4081\u001b[0m       \u001b[32m0.8923\u001b[0m        \u001b[35m0.3939\u001b[0m  3.5333\n",
      "     14        \u001b[36m0.3950\u001b[0m       \u001b[32m0.8943\u001b[0m        \u001b[35m0.3822\u001b[0m  3.6389\n",
      "     15        \u001b[36m0.3837\u001b[0m       \u001b[32m0.8970\u001b[0m        \u001b[35m0.3720\u001b[0m  3.3783\n",
      "     16        \u001b[36m0.3738\u001b[0m       \u001b[32m0.8994\u001b[0m        \u001b[35m0.3630\u001b[0m  3.7066\n",
      "     17        \u001b[36m0.3650\u001b[0m       \u001b[32m0.9019\u001b[0m        \u001b[35m0.3551\u001b[0m  3.4196\n",
      "     18        \u001b[36m0.3570\u001b[0m       \u001b[32m0.9035\u001b[0m        \u001b[35m0.3479\u001b[0m  3.4479\n",
      "     19        \u001b[36m0.3498\u001b[0m       \u001b[32m0.9046\u001b[0m        \u001b[35m0.3413\u001b[0m  3.4710\n",
      "     20        \u001b[36m0.3432\u001b[0m       \u001b[32m0.9066\u001b[0m        \u001b[35m0.3353\u001b[0m  3.5495\n",
      "     21        \u001b[36m0.3371\u001b[0m       \u001b[32m0.9079\u001b[0m        \u001b[35m0.3298\u001b[0m  3.5189\n",
      "     22        \u001b[36m0.3314\u001b[0m       \u001b[32m0.9088\u001b[0m        \u001b[35m0.3247\u001b[0m  3.4664\n",
      "     23        \u001b[36m0.3261\u001b[0m       \u001b[32m0.9100\u001b[0m        \u001b[35m0.3199\u001b[0m  3.5041\n",
      "     24        \u001b[36m0.3211\u001b[0m       \u001b[32m0.9110\u001b[0m        \u001b[35m0.3154\u001b[0m  3.5101\n",
      "     25        \u001b[36m0.3164\u001b[0m       \u001b[32m0.9119\u001b[0m        \u001b[35m0.3111\u001b[0m  3.5696\n",
      "     26        \u001b[36m0.3120\u001b[0m       \u001b[32m0.9122\u001b[0m        \u001b[35m0.3071\u001b[0m  3.5948\n",
      "     27        \u001b[36m0.3077\u001b[0m       \u001b[32m0.9131\u001b[0m        \u001b[35m0.3032\u001b[0m  3.6597\n",
      "     28        \u001b[36m0.3037\u001b[0m       \u001b[32m0.9145\u001b[0m        \u001b[35m0.2996\u001b[0m  3.3273\n",
      "     29        \u001b[36m0.2998\u001b[0m       \u001b[32m0.9152\u001b[0m        \u001b[35m0.2961\u001b[0m  3.4539\n",
      "     30        \u001b[36m0.2961\u001b[0m       \u001b[32m0.9160\u001b[0m        \u001b[35m0.2928\u001b[0m  3.6441\n",
      "     31        \u001b[36m0.2926\u001b[0m       \u001b[32m0.9168\u001b[0m        \u001b[35m0.2896\u001b[0m  3.5339\n",
      "     32        \u001b[36m0.2891\u001b[0m       \u001b[32m0.9181\u001b[0m        \u001b[35m0.2865\u001b[0m  3.4945\n",
      "     33        \u001b[36m0.2858\u001b[0m       \u001b[32m0.9190\u001b[0m        \u001b[35m0.2835\u001b[0m  3.4019\n",
      "     34        \u001b[36m0.2826\u001b[0m       \u001b[32m0.9204\u001b[0m        \u001b[35m0.2806\u001b[0m  3.6073\n",
      "     35        \u001b[36m0.2796\u001b[0m       \u001b[32m0.9212\u001b[0m        \u001b[35m0.2779\u001b[0m  3.5124\n",
      "     36        \u001b[36m0.2766\u001b[0m       \u001b[32m0.9219\u001b[0m        \u001b[35m0.2752\u001b[0m  3.5174\n",
      "     37        \u001b[36m0.2737\u001b[0m       \u001b[32m0.9227\u001b[0m        \u001b[35m0.2727\u001b[0m  3.5360\n",
      "     38        \u001b[36m0.2709\u001b[0m       \u001b[32m0.9235\u001b[0m        \u001b[35m0.2702\u001b[0m  3.3537\n",
      "     39        \u001b[36m0.2682\u001b[0m       \u001b[32m0.9243\u001b[0m        \u001b[35m0.2677\u001b[0m  3.5938\n",
      "     40        \u001b[36m0.2656\u001b[0m       \u001b[32m0.9252\u001b[0m        \u001b[35m0.2654\u001b[0m  3.5868\n",
      "     41        \u001b[36m0.2630\u001b[0m       \u001b[32m0.9259\u001b[0m        \u001b[35m0.2631\u001b[0m  3.6169\n",
      "     42        \u001b[36m0.2605\u001b[0m       \u001b[32m0.9266\u001b[0m        \u001b[35m0.2608\u001b[0m  3.5590\n",
      "     43        \u001b[36m0.2581\u001b[0m       \u001b[32m0.9269\u001b[0m        \u001b[35m0.2587\u001b[0m  3.4365\n",
      "     44        \u001b[36m0.2557\u001b[0m       \u001b[32m0.9271\u001b[0m        \u001b[35m0.2565\u001b[0m  3.4482\n",
      "     45        \u001b[36m0.2534\u001b[0m       \u001b[32m0.9275\u001b[0m        \u001b[35m0.2545\u001b[0m  3.4320\n",
      "     46        \u001b[36m0.2511\u001b[0m       \u001b[32m0.9280\u001b[0m        \u001b[35m0.2525\u001b[0m  3.5290\n",
      "     47        \u001b[36m0.2489\u001b[0m       \u001b[32m0.9285\u001b[0m        \u001b[35m0.2505\u001b[0m  3.6482\n",
      "     48        \u001b[36m0.2467\u001b[0m       \u001b[32m0.9287\u001b[0m        \u001b[35m0.2486\u001b[0m  3.5427\n",
      "     49        \u001b[36m0.2446\u001b[0m       \u001b[32m0.9293\u001b[0m        \u001b[35m0.2467\u001b[0m  3.4887\n",
      "     50        \u001b[36m0.2426\u001b[0m       \u001b[32m0.9295\u001b[0m        \u001b[35m0.2449\u001b[0m  3.6065\n",
      "     51        \u001b[36m0.2405\u001b[0m       \u001b[32m0.9304\u001b[0m        \u001b[35m0.2430\u001b[0m  3.3707\n",
      "     52        \u001b[36m0.2385\u001b[0m       \u001b[32m0.9308\u001b[0m        \u001b[35m0.2413\u001b[0m  3.5012\n",
      "     53        \u001b[36m0.2366\u001b[0m       \u001b[32m0.9314\u001b[0m        \u001b[35m0.2395\u001b[0m  3.6109\n",
      "     54        \u001b[36m0.2346\u001b[0m       \u001b[32m0.9320\u001b[0m        \u001b[35m0.2378\u001b[0m  3.5528\n",
      "     55        \u001b[36m0.2327\u001b[0m       \u001b[32m0.9325\u001b[0m        \u001b[35m0.2361\u001b[0m  3.4718\n",
      "     56        \u001b[36m0.2309\u001b[0m       \u001b[32m0.9330\u001b[0m        \u001b[35m0.2345\u001b[0m  3.7273\n",
      "     57        \u001b[36m0.2291\u001b[0m       0.9330        \u001b[35m0.2329\u001b[0m  3.5314\n",
      "     58        \u001b[36m0.2273\u001b[0m       \u001b[32m0.9333\u001b[0m        \u001b[35m0.2313\u001b[0m  3.4279\n",
      "     59        \u001b[36m0.2255\u001b[0m       \u001b[32m0.9336\u001b[0m        \u001b[35m0.2297\u001b[0m  3.6054\n",
      "     60        \u001b[36m0.2238\u001b[0m       \u001b[32m0.9339\u001b[0m        \u001b[35m0.2282\u001b[0m  3.4564\n",
      "     61        \u001b[36m0.2221\u001b[0m       \u001b[32m0.9341\u001b[0m        \u001b[35m0.2267\u001b[0m  3.3557\n",
      "     62        \u001b[36m0.2205\u001b[0m       \u001b[32m0.9348\u001b[0m        \u001b[35m0.2252\u001b[0m  3.4601\n",
      "     63        \u001b[36m0.2188\u001b[0m       \u001b[32m0.9349\u001b[0m        \u001b[35m0.2238\u001b[0m  3.5561\n",
      "     64        \u001b[36m0.2172\u001b[0m       \u001b[32m0.9350\u001b[0m        \u001b[35m0.2223\u001b[0m  3.8701\n",
      "     65        \u001b[36m0.2156\u001b[0m       \u001b[32m0.9353\u001b[0m        \u001b[35m0.2209\u001b[0m  3.4887\n",
      "     66        \u001b[36m0.2141\u001b[0m       \u001b[32m0.9356\u001b[0m        \u001b[35m0.2195\u001b[0m  3.4027\n",
      "     67        \u001b[36m0.2126\u001b[0m       \u001b[32m0.9360\u001b[0m        \u001b[35m0.2182\u001b[0m  3.4228\n",
      "     68        \u001b[36m0.2111\u001b[0m       \u001b[32m0.9361\u001b[0m        \u001b[35m0.2168\u001b[0m  3.5754\n",
      "     69        \u001b[36m0.2096\u001b[0m       \u001b[32m0.9364\u001b[0m        \u001b[35m0.2155\u001b[0m  3.5388\n",
      "     70        \u001b[36m0.2081\u001b[0m       \u001b[32m0.9367\u001b[0m        \u001b[35m0.2142\u001b[0m  3.7171\n",
      "     71        \u001b[36m0.2067\u001b[0m       \u001b[32m0.9370\u001b[0m        \u001b[35m0.2129\u001b[0m  3.5585\n",
      "     72        \u001b[36m0.2053\u001b[0m       \u001b[32m0.9373\u001b[0m        \u001b[35m0.2117\u001b[0m  3.6168\n",
      "     73        \u001b[36m0.2039\u001b[0m       \u001b[32m0.9378\u001b[0m        \u001b[35m0.2104\u001b[0m  3.8336\n",
      "     74        \u001b[36m0.2025\u001b[0m       \u001b[32m0.9381\u001b[0m        \u001b[35m0.2092\u001b[0m  3.4289\n",
      "     75        \u001b[36m0.2012\u001b[0m       \u001b[32m0.9387\u001b[0m        \u001b[35m0.2080\u001b[0m  3.6959\n",
      "     76        \u001b[36m0.1998\u001b[0m       \u001b[32m0.9388\u001b[0m        \u001b[35m0.2068\u001b[0m  3.6193\n",
      "     77        \u001b[36m0.1985\u001b[0m       \u001b[32m0.9393\u001b[0m        \u001b[35m0.2056\u001b[0m  3.5490\n",
      "     78        \u001b[36m0.1972\u001b[0m       \u001b[32m0.9395\u001b[0m        \u001b[35m0.2045\u001b[0m  3.6070\n",
      "     79        \u001b[36m0.1959\u001b[0m       \u001b[32m0.9398\u001b[0m        \u001b[35m0.2034\u001b[0m  3.5755\n",
      "     80        \u001b[36m0.1947\u001b[0m       \u001b[32m0.9402\u001b[0m        \u001b[35m0.2022\u001b[0m  3.5371\n",
      "     81        \u001b[36m0.1934\u001b[0m       \u001b[32m0.9409\u001b[0m        \u001b[35m0.2011\u001b[0m  3.6704\n",
      "     82        \u001b[36m0.1922\u001b[0m       \u001b[32m0.9411\u001b[0m        \u001b[35m0.2000\u001b[0m  3.5325\n",
      "     83        \u001b[36m0.1910\u001b[0m       \u001b[32m0.9411\u001b[0m        \u001b[35m0.1990\u001b[0m  3.4186\n",
      "     84        \u001b[36m0.1898\u001b[0m       \u001b[32m0.9414\u001b[0m        \u001b[35m0.1979\u001b[0m  3.4256\n",
      "     85        \u001b[36m0.1886\u001b[0m       \u001b[32m0.9417\u001b[0m        \u001b[35m0.1968\u001b[0m  3.5085\n",
      "     86        \u001b[36m0.1874\u001b[0m       \u001b[32m0.9419\u001b[0m        \u001b[35m0.1958\u001b[0m  3.5047\n",
      "     87        \u001b[36m0.1862\u001b[0m       \u001b[32m0.9425\u001b[0m        \u001b[35m0.1948\u001b[0m  3.6600\n",
      "     88        \u001b[36m0.1851\u001b[0m       \u001b[32m0.9430\u001b[0m        \u001b[35m0.1938\u001b[0m  3.5784\n",
      "     89        \u001b[36m0.1839\u001b[0m       \u001b[32m0.9435\u001b[0m        \u001b[35m0.1928\u001b[0m  3.5405\n",
      "     90        \u001b[36m0.1828\u001b[0m       0.9435        \u001b[35m0.1918\u001b[0m  3.6087\n",
      "     91        \u001b[36m0.1817\u001b[0m       \u001b[32m0.9440\u001b[0m        \u001b[35m0.1908\u001b[0m  3.6609\n",
      "     92        \u001b[36m0.1806\u001b[0m       \u001b[32m0.9443\u001b[0m        \u001b[35m0.1899\u001b[0m  3.8326\n",
      "     93        \u001b[36m0.1796\u001b[0m       0.9443        \u001b[35m0.1889\u001b[0m  3.7069\n",
      "     94        \u001b[36m0.1785\u001b[0m       \u001b[32m0.9446\u001b[0m        \u001b[35m0.1880\u001b[0m  3.4628\n",
      "     95        \u001b[36m0.1774\u001b[0m       \u001b[32m0.9448\u001b[0m        \u001b[35m0.1870\u001b[0m  3.4214\n",
      "     96        \u001b[36m0.1764\u001b[0m       \u001b[32m0.9450\u001b[0m        \u001b[35m0.1861\u001b[0m  3.4418\n",
      "     97        \u001b[36m0.1754\u001b[0m       \u001b[32m0.9455\u001b[0m        \u001b[35m0.1852\u001b[0m  3.6617\n",
      "     98        \u001b[36m0.1743\u001b[0m       \u001b[32m0.9457\u001b[0m        \u001b[35m0.1843\u001b[0m  3.6225\n",
      "     99        \u001b[36m0.1733\u001b[0m       \u001b[32m0.9458\u001b[0m        \u001b[35m0.1835\u001b[0m  3.4804\n",
      "    100        \u001b[36m0.1723\u001b[0m       \u001b[32m0.9461\u001b[0m        \u001b[35m0.1826\u001b[0m  3.5826\n"
     ]
    },
    {
     "data": {
      "text/plain": [
       "<class 'skorch.classifier.NeuralNetClassifier'>[initialized](\n",
       "  module_=Model(\n",
       "    (model): <Sequential name=sequential_2, built=True>\n",
       "  ),\n",
       ")"
      ]
     },
     "execution_count": 13,
     "metadata": {},
     "output_type": "execute_result"
    }
   ],
   "source": [
    "net = NeuralNetClassifier(Model, max_epochs=args.epoch, lr=args.lr, \n",
    "                          criterion=nn.CrossEntropyLoss, \n",
    "                          batch_size=args.batch, device=args.device)\n",
    "net.fit(x_train, y_train)"
   ]
  },
  {
   "cell_type": "code",
   "execution_count": 14,
   "id": "9ba8ade1-92ec-4ab7-9e4f-1d313138df81",
   "metadata": {},
   "outputs": [
    {
     "data": {
      "text/plain": [
       "array([7, 2, 1, 0, 4], dtype=int64)"
      ]
     },
     "execution_count": 14,
     "metadata": {},
     "output_type": "execute_result"
    }
   ],
   "source": [
    "y_pred = net.predict(x_test[:5])\n",
    "y_pred"
   ]
  },
  {
   "cell_type": "code",
   "execution_count": 15,
   "id": "0186da65-a1bb-4be5-80ab-b2a5362992a3",
   "metadata": {},
   "outputs": [
    {
     "data": {
      "text/plain": [
       "array([[5.4555472e-05, 1.0122669e-07, 1.0481225e-03, 1.4534072e-03,\n",
       "        1.2624902e-07, 1.8522098e-05, 5.1840638e-09, 9.9732971e-01,\n",
       "        7.4801997e-06, 8.7973662e-05],\n",
       "       [1.0834259e-03, 1.9611622e-05, 9.9053568e-01, 6.9521121e-03,\n",
       "        3.0625497e-08, 6.8418367e-04, 6.0150540e-04, 1.6620586e-08,\n",
       "        1.2337540e-04, 3.8639008e-08],\n",
       "       [2.1273694e-05, 9.8369986e-01, 6.0267276e-03, 1.6142586e-03,\n",
       "        3.3433113e-04, 7.5262145e-04, 1.5223800e-03, 3.6379872e-03,\n",
       "        2.1086324e-03, 2.8187811e-04],\n",
       "       [9.9955350e-01, 5.2985825e-09, 2.3225954e-04, 1.0755182e-05,\n",
       "        4.2780133e-08, 6.6379762e-05, 9.8772172e-05, 9.7750226e-06,\n",
       "        7.3832412e-06, 2.1232012e-05],\n",
       "       [3.0487505e-04, 2.3657700e-05, 1.1745940e-03, 5.7727117e-05,\n",
       "        9.6659064e-01, 4.4128322e-04, 2.5744117e-03, 1.9118144e-03,\n",
       "        1.0550403e-03, 2.5865979e-02]], dtype=float32)"
      ]
     },
     "execution_count": 15,
     "metadata": {},
     "output_type": "execute_result"
    }
   ],
   "source": [
    "y_proba = net.predict_proba(x_test[:5])\n",
    "y_proba"
   ]
  },
  {
   "cell_type": "code",
   "execution_count": 16,
   "id": "bc2a0980-7459-405d-88a2-a161fbb0a719",
   "metadata": {},
   "outputs": [
    {
     "data": {
      "text/plain": [
       "0.9482"
      ]
     },
     "execution_count": 16,
     "metadata": {},
     "output_type": "execute_result"
    }
   ],
   "source": [
    "y_pred = net.predict(x_test)\n",
    "accuracy_score(y_test, y_pred)"
   ]
  }
 ],
 "metadata": {
  "kernelspec": {
   "display_name": "Python 3 (ipykernel)",
   "language": "python",
   "name": "python3"
  },
  "language_info": {
   "codemirror_mode": {
    "name": "ipython",
    "version": 3
   },
   "file_extension": ".py",
   "mimetype": "text/x-python",
   "name": "python",
   "nbconvert_exporter": "python",
   "pygments_lexer": "ipython3",
   "version": "3.12.4"
  }
 },
 "nbformat": 4,
 "nbformat_minor": 5
}
