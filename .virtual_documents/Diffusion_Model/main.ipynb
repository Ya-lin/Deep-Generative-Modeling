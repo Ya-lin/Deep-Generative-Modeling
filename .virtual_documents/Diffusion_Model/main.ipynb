import os
from pathlib import Path
from pdb import set_trace

import math
import numpy as np
import matplotlib.pyplot as plt

import torch
from torch import nn, optim
from torch.nn import functional as F

os.environ['KERAS_BACKEND'] = 'torch'
import keras
from keras import layers, models

from dataset import download_oxford102, get_oxford102
from testing import display


train, *_ = download_oxford102(val=False, test=False)
len(train)


x, y = train[100]
x.shape, y


train_loader, *_ = get_oxford102(64, val=False, test=False)
len(train_loader)


x, y = next(iter(train_loader))
x.shape, y.shape


display(x)



