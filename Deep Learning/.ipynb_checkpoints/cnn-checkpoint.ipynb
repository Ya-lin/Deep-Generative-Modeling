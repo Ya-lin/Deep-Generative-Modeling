{
 "cells": [
  {
   "cell_type": "code",
   "execution_count": null,
   "id": "6cd20f9f-f802-4626-bf7c-a6c1993b4823",
   "metadata": {},
   "outputs": [],
   "source": [
    "import os\n",
    "from pathlib import Path\n",
    "import numpy as np\n",
    "import matplotlib.pyplot as plt\n",
    "from sklearn.metrics import accuracy_score\n",
    "from pdb import set_trace\n",
    "\n",
    "import torch\n",
    "from torch import nn, optim\n",
    "from torch.nn import functional as F\n",
    "from dataset import get_cifar10\n",
    "from train import trainer\n",
    "from test import tester\n",
    "\n",
    "os.environ['KERAS_BACKEND'] = 'torch'\n",
    "import keras\n",
    "from keras import layers, models"
   ]
  },
  {
   "cell_type": "code",
   "execution_count": null,
   "id": "97aec1ee-a55f-4840-b670-3b6b0d0e55b0",
   "metadata": {},
   "outputs": [],
   "source": [
    "NUM_CLASSES = 10\n",
    "\n",
    "if torch.cuda.is_available():\n",
    "    device = \"cuda\"\n",
    "else:\n",
    "    device = \"cpu\"\n",
    "\n",
    "device"
   ]
  },
  {
   "cell_type": "code",
   "execution_count": null,
   "id": "d163024c-850c-4489-9cb9-123c6fd21209",
   "metadata": {},
   "outputs": [],
   "source": [
    "loader = get_cifar10(batch_size=32)\n",
    "len(loader[0]), len(loader[1])"
   ]
  },
  {
   "cell_type": "code",
   "execution_count": null,
   "id": "4f008b75-9ddb-4607-87dd-54076275958b",
   "metadata": {},
   "outputs": [],
   "source": [
    "x, y = next(iter(loader[0]))\n",
    "x.shape, y.shape"
   ]
  },
  {
   "cell_type": "code",
   "execution_count": null,
   "id": "da98e2cb-ed06-4ca0-8c64-bb48a157c56c",
   "metadata": {},
   "outputs": [],
   "source": [
    "input_layer = layers.Input((32, 32, 3))\n",
    "x = layers.Conv2D(filters=32, kernel_size=3, strides=1, padding=\"same\")(input_layer)\n",
    "x = layers.BatchNormalization()(x)\n",
    "x = layers.LeakyReLU()(x)\n",
    "\n",
    "x = layers.Conv2D(filters=32, kernel_size=3, strides=2, padding=\"same\")(x)\n",
    "x = layers.BatchNormalization()(x)\n",
    "x = layers.LeakyReLU()(x)\n",
    "\n",
    "x = layers.Conv2D(filters=64, kernel_size=3, strides=1, padding=\"same\")(x)\n",
    "x = layers.BatchNormalization()(x)\n",
    "x = layers.LeakyReLU()(x)\n",
    "\n",
    "x = layers.Conv2D(filters=64, kernel_size=3, strides=2, padding=\"same\")(x)\n",
    "x = layers.BatchNormalization()(x)\n",
    "x = layers.LeakyReLU()(x)\n",
    "\n",
    "x = layers.Flatten()(x)\n",
    "\n",
    "x = layers.Dense(128)(x)\n",
    "x = layers.BatchNormalization()(x)\n",
    "x = layers.LeakyReLU()(x)\n",
    "x = layers.Dropout(rate=0.5)(x)\n",
    "\n",
    "output_layer = layers.Dense(NUM_CLASSES)(x)\n",
    "\n",
    "keras_model = models.Model(input_layer, output_layer).to(device)\n",
    "keras_model.summary()"
   ]
  },
  {
   "cell_type": "code",
   "execution_count": null,
   "id": "cedab7c6-e537-4844-a751-579be0a50b11",
   "metadata": {},
   "outputs": [],
   "source": [
    "x, y = next(iter(loader[0]))\n",
    "x.shape, y.shape"
   ]
  },
  {
   "cell_type": "code",
   "execution_count": null,
   "id": "5eb42497-fe56-4ba3-950b-1192d731d0b0",
   "metadata": {},
   "outputs": [],
   "source": [
    "pred_y = keras_model(x.to(device))\n",
    "pred_y.shape"
   ]
  },
  {
   "cell_type": "code",
   "execution_count": null,
   "id": "d8f42173-6cb2-4573-8574-7366a81367a8",
   "metadata": {},
   "outputs": [],
   "source": [
    "learning_rate = 5e-4\n",
    "epochs = 100\n",
    "optimizer = optim.Adam(keras_model.parameters(), lr=learning_rate)\n",
    "loss_fn = nn.CrossEntropyLoss()"
   ]
  },
  {
   "cell_type": "code",
   "execution_count": null,
   "id": "e477fba4-c657-49b5-b7c1-36786b1c9044",
   "metadata": {},
   "outputs": [],
   "source": [
    "keras_model, train_loss = trainer(keras_model, loader[0], epochs, \n",
    "                                  optimizer, loss_fn, device)\n",
    "keras_model.training"
   ]
  },
  {
   "cell_type": "code",
   "execution_count": null,
   "id": "a8a221d4-2ee8-4682-9d51-811e80d51e3d",
   "metadata": {},
   "outputs": [],
   "source": [
    "plt.plot(train_loss)\n",
    "plt.show()"
   ]
  },
  {
   "cell_type": "code",
   "execution_count": null,
   "id": "515f2889-1445-4cf4-ab68-eaa08d5584f2",
   "metadata": {},
   "outputs": [],
   "source": [
    "labels, preds = tester(keras_model, loader[1], device, predict=False)\n",
    "acc = accuracy_score(labels, preds)\n",
    "print(\"Test accuracy: \", round(100*acc, 2))"
   ]
  },
  {
   "cell_type": "code",
   "execution_count": null,
   "id": "dc905992-aff7-4c3b-aa17-c186092ca0e4",
   "metadata": {},
   "outputs": [],
   "source": [
    "class MyModel(nn.Module):\n",
    "    def __init__(self, num_classes=10):\n",
    "        super().__init__()\n",
    "        self.model = keras.Sequential([\n",
    "            layers.Input((32, 32, 3)),\n",
    "            layers.Conv2D(filters=32, kernel_size=3, strides=1, padding=\"same\"),\n",
    "            layers.BatchNormalization(),layers.LeakyReLU(),\n",
    "            layers.Conv2D(filters=32, kernel_size=3, strides=2, padding=\"same\"),\n",
    "            layers.BatchNormalization(),layers.LeakyReLU(),\n",
    "            layers.Conv2D(filters=64, kernel_size=3, strides=1, padding=\"same\"),\n",
    "            layers.BatchNormalization(),layers.LeakyReLU(),\n",
    "            layers.Conv2D(filters=64, kernel_size=3, strides=2, padding=\"same\"),\n",
    "            layers.BatchNormalization(),layers.LeakyReLU(),\n",
    "            layers.Flatten(),layers.Dense(128),layers.BatchNormalization(),\n",
    "            layers.LeakyReLU(),layers.Dropout(rate=0.5),\n",
    "            layers.Dense(num_classes)])\n",
    "\n",
    "    def forward(self, x):\n",
    "        return self.model(x)\n",
    "    \n",
    "    @torch.no_grad()\n",
    "    def predict(self, x):\n",
    "        x = self.forward(x)\n",
    "        pred_y = F.softmax(x, dim=1)\n",
    "        pred_class = torch.argmax(pred_y, dim=1)\n",
    "        return pred_class.cpu()"
   ]
  },
  {
   "cell_type": "code",
   "execution_count": null,
   "id": "483464bf-5231-41ea-a62c-c636eeca6c49",
   "metadata": {},
   "outputs": [],
   "source": [
    "torch_model = MyModel()\n",
    "x, y = next(iter(loader[0]))\n",
    "x.shape, y.shape"
   ]
  },
  {
   "cell_type": "code",
   "execution_count": null,
   "id": "7678658d-908f-4f3f-a2bb-e1cf741725d5",
   "metadata": {},
   "outputs": [],
   "source": [
    "pred_y = torch_model(x)\n",
    "pred_y.shape"
   ]
  },
  {
   "cell_type": "code",
   "execution_count": null,
   "id": "e455805c-7966-4c5b-bdd4-cb329d7d067b",
   "metadata": {},
   "outputs": [],
   "source": [
    "torch_model = MyModel().to(device)\n",
    "optimizer = optim.Adam(torch_model.parameters(), lr=learning_rate)\n",
    "loss_fn = nn.CrossEntropyLoss()"
   ]
  },
  {
   "cell_type": "code",
   "execution_count": null,
   "id": "2eb8e1da-4d1a-4be2-b4f9-1529ae3174ff",
   "metadata": {},
   "outputs": [],
   "source": [
    "torch_model, train_loss = trainer(torch_model, loader[0], epochs, \n",
    "                                  optimizer, loss_fn, device)\n",
    "torch_model.training"
   ]
  },
  {
   "cell_type": "code",
   "execution_count": null,
   "id": "90a6a6a9-02fd-4f54-bc7b-b6a462acbf26",
   "metadata": {},
   "outputs": [],
   "source": [
    "plt.plot(train_loss)\n",
    "plt.show()"
   ]
  },
  {
   "cell_type": "code",
   "execution_count": null,
   "id": "e7f15758-d78e-40ba-b1b4-98b4ab2803a4",
   "metadata": {},
   "outputs": [],
   "source": [
    "labels, preds = tester(torch_model, loader[1], device)\n",
    "acc = accuracy_score(labels, preds)\n",
    "print(\"Test accuracy: \", round(100*acc, 2))"
   ]
  }
 ],
 "metadata": {
  "kernelspec": {
   "display_name": "Python 3 (ipykernel)",
   "language": "python",
   "name": "python3"
  },
  "language_info": {
   "codemirror_mode": {
    "name": "ipython",
    "version": 3
   },
   "file_extension": ".py",
   "mimetype": "text/x-python",
   "name": "python",
   "nbconvert_exporter": "python",
   "pygments_lexer": "ipython3",
   "version": "3.12.4"
  }
 },
 "nbformat": 4,
 "nbformat_minor": 5
}
