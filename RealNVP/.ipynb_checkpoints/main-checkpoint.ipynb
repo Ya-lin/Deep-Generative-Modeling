{
 "cells": [
  {
   "cell_type": "code",
   "execution_count": 1,
   "id": "34ef864d-3c7f-48a4-9143-b42a758b6dfb",
   "metadata": {},
   "outputs": [],
   "source": [
    "from types import SimpleNamespace\n",
    "from tqdm import tqdm\n",
    "import numpy as np\n",
    "from matplotlib import pyplot as plt\n",
    "import torch\n",
    "from torch import optim\n",
    "from dataset import get_mnist\n",
    "from networks import RealNVP"
   ]
  },
  {
   "cell_type": "code",
   "execution_count": 2,
   "id": "9d27b8d1-4bac-4f3e-b7e1-634b8076e82b",
   "metadata": {},
   "outputs": [
    {
     "name": "stdout",
     "output_type": "stream",
     "text": [
      "namespace(image_size=(1, 28, 28), input_dim=784, hidden_dim=512, num_layer=6, lr=0.0001, batch=512, epoch=150, ratio=0.8, device='cuda')\n"
     ]
    }
   ],
   "source": [
    "args = SimpleNamespace()\n",
    "args.image_size = (1, 28, 28)\n",
    "args.input_dim = np.prod(args.image_size)\n",
    "args.hidden_dim = 512\n",
    "args.num_layer = 6\n",
    "args.lr = 1e-4\n",
    "args.batch = 512\n",
    "args.epoch = 150\n",
    "args.ratio = 0.8\n",
    "args.device = \"cuda\" if torch.cuda.is_available() else \"cpu\"\n",
    "print(args)"
   ]
  },
  {
   "cell_type": "code",
   "execution_count": null,
   "id": "5d80037f-2194-456c-9b61-4ba4a7286a00",
   "metadata": {},
   "outputs": [
    {
     "name": "stderr",
     "output_type": "stream",
     "text": [
      " 28%|██▊       | 42/150 [11:00<27:59, 15.55s/it]"
     ]
    }
   ],
   "source": [
    "loader = get_mnist(args.batch, args.ratio)\n",
    "model = RealNVP(args.image_size, args.input_dim, args.hidden_dim, args.num_layer, args.device)\n",
    "optimizer = optim.AdamW(model.parameters(), lr=args.lr)\n",
    "history = SimpleNamespace(train_loss=[], valid_loss=[])\n",
    "for _ in tqdm(range(args.epoch)):\n",
    "    model.train()\n",
    "    train_loss = 0\n",
    "    for x, _ in loader.train: \n",
    "        optimizer.zero_grad()\n",
    "        log_prob = model.log_prob(x.to(args.device))\n",
    "        loss = -log_prob.mean()\n",
    "        loss.backward()\n",
    "        optimizer.step()\n",
    "        \n",
    "        train_loss += loss.item()\n",
    "    history.train_loss.append(train_loss/len(loader.train))\n",
    "    \n",
    "    model.eval()\n",
    "    valid_loss = 0\n",
    "    with torch.no_grad():\n",
    "        for x, _ in loader.valid:\n",
    "            log_prob = model.log_prob(x.to(args.device))\n",
    "            loss = -log_prob.mean()\n",
    "            \n",
    "            valid_loss += loss.item()\n",
    "    \n",
    "    history.valid_loss.append(valid_loss/len(loader.valid))     "
   ]
  },
  {
   "cell_type": "code",
   "execution_count": null,
   "id": "e5f6668b-6fec-406e-8023-2c67aec4c726",
   "metadata": {},
   "outputs": [],
   "source": [
    "plt.plot(history.train_loss, label=\"train\")\n",
    "plt.plot(history.valid_loss, label=\"valid\")\n",
    "plt.legend()\n",
    "plt.show()"
   ]
  },
  {
   "cell_type": "code",
   "execution_count": null,
   "id": "77c5ffba-5dd4-4097-b087-dd43a478c57f",
   "metadata": {},
   "outputs": [],
   "source": [
    "samples = model.sampling(16)\n",
    "fig, axes = plt.subplots(4, 4, figsize=(10, 10))\n",
    "for i, ax in enumerate(axes.flatten()):\n",
    "    ax.imshow(samples[i].detach().cpu().numpy().squeeze(), cmap='gray')\n",
    "    ax.axis('off')\n",
    "plt.show()"
   ]
  },
  {
   "cell_type": "code",
   "execution_count": null,
   "id": "ddc62d01-7d34-4a1f-ac1c-d3f02893cc9a",
   "metadata": {},
   "outputs": [],
   "source": []
  }
 ],
 "metadata": {
  "kernelspec": {
   "display_name": "Python 3 (ipykernel)",
   "language": "python",
   "name": "python3"
  },
  "language_info": {
   "codemirror_mode": {
    "name": "ipython",
    "version": 3
   },
   "file_extension": ".py",
   "mimetype": "text/x-python",
   "name": "python",
   "nbconvert_exporter": "python",
   "pygments_lexer": "ipython3",
   "version": "3.12.4"
  }
 },
 "nbformat": 4,
 "nbformat_minor": 5
}
