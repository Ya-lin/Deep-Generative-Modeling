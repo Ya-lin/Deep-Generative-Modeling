{
 "cells": [
  {
   "cell_type": "code",
   "execution_count": 1,
   "id": "34ef864d-3c7f-48a4-9143-b42a758b6dfb",
   "metadata": {},
   "outputs": [],
   "source": [
    "from types import SimpleNamespace\n",
    "import torch\n",
    "from dataset import get_mnist\n",
    "from networks import CheckerboardCouplingLayer"
   ]
  },
  {
   "cell_type": "code",
   "execution_count": 2,
   "id": "be00f6b6-fa9d-439c-98db-4f167efc476f",
   "metadata": {},
   "outputs": [
    {
     "name": "stdout",
     "output_type": "stream",
     "text": [
      "namespace(input_dim=784, hidden_dim=256, num_layer=5, lr=0.001, batch=64, epoch=10)\n"
     ]
    }
   ],
   "source": [
    "args = SimpleNamespace()\n",
    "args.input_dim = 784   # 28x28\n",
    "args.hidden_dim = 256\n",
    "args.num_layer = 5\n",
    "args.lr = 1e-3\n",
    "args.batch = 64\n",
    "args.epoch = 10\n",
    "print(args)"
   ]
  },
  {
   "cell_type": "code",
   "execution_count": 3,
   "id": "77be562f-4d6a-4343-af06-a38fbf7cb5d2",
   "metadata": {},
   "outputs": [
    {
     "data": {
      "text/plain": [
       "(937, 157)"
      ]
     },
     "execution_count": 3,
     "metadata": {},
     "output_type": "execute_result"
    }
   ],
   "source": [
    "loader = get_mnist(args.batch)\n",
    "len(loader.train), len(loader.test)"
   ]
  },
  {
   "cell_type": "code",
   "execution_count": 4,
   "id": "9d75335e-56b3-4ace-8e77-b1fa94eb95e4",
   "metadata": {},
   "outputs": [
    {
     "data": {
      "text/plain": [
       "CheckerboardCouplingLayer(\n",
       "  (scale_net): Sequential(\n",
       "    (0): Linear(in_features=392, out_features=256, bias=True)\n",
       "    (1): ReLU()\n",
       "    (2): Linear(in_features=256, out_features=392, bias=True)\n",
       "    (3): Tanh()\n",
       "  )\n",
       "  (translate_net): Sequential(\n",
       "    (0): Linear(in_features=392, out_features=256, bias=True)\n",
       "    (1): ReLU()\n",
       "    (2): Linear(in_features=256, out_features=392, bias=True)\n",
       "  )\n",
       ")"
      ]
     },
     "execution_count": 4,
     "metadata": {},
     "output_type": "execute_result"
    }
   ],
   "source": [
    "couplelayer = CheckerboardCouplingLayer(args.input_dim, args.hidden_dim)\n",
    "couplelayer"
   ]
  },
  {
   "cell_type": "code",
   "execution_count": 6,
   "id": "50985c5b-4864-4f85-a2e0-414ee3da37af",
   "metadata": {},
   "outputs": [
    {
     "ename": "NameError",
     "evalue": "name 'torch' is not defined",
     "output_type": "error",
     "traceback": [
      "\u001b[1;31m---------------------------------------------------------------------------\u001b[0m",
      "\u001b[1;31mNameError\u001b[0m                                 Traceback (most recent call last)",
      "Cell \u001b[1;32mIn[6], line 1\u001b[0m\n\u001b[1;32m----> 1\u001b[0m x \u001b[38;5;241m=\u001b[39m torch\u001b[38;5;241m.\u001b[39mrandn(\u001b[38;5;241m10\u001b[39m, \u001b[38;5;241m784\u001b[39m)\n\u001b[0;32m      2\u001b[0m z, _ \u001b[38;5;241m=\u001b[39m couplelayer(x)\n",
      "\u001b[1;31mNameError\u001b[0m: name 'torch' is not defined"
     ]
    }
   ],
   "source": [
    "x = torch.randn(10, 784)\n",
    "z, _ = couplelayer(x)"
   ]
  },
  {
   "cell_type": "code",
   "execution_count": null,
   "id": "9d27b8d1-4bac-4f3e-b7e1-634b8076e82b",
   "metadata": {},
   "outputs": [],
   "source": []
  }
 ],
 "metadata": {
  "kernelspec": {
   "display_name": "Python 3 (ipykernel)",
   "language": "python",
   "name": "python3"
  },
  "language_info": {
   "codemirror_mode": {
    "name": "ipython",
    "version": 3
   },
   "file_extension": ".py",
   "mimetype": "text/x-python",
   "name": "python",
   "nbconvert_exporter": "python",
   "pygments_lexer": "ipython3",
   "version": "3.12.4"
  }
 },
 "nbformat": 4,
 "nbformat_minor": 5
}
